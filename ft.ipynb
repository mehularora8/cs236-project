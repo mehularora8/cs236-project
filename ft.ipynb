{
 "cells": [
  {
   "cell_type": "code",
   "execution_count": 7,
   "metadata": {},
   "outputs": [
    {
     "name": "stdout",
     "output_type": "stream",
     "text": [
      "(60, 1)\n",
      "Old shape:  (60, 3)\n",
      "New shape:  (60, 1)\n"
     ]
    },
    {
     "name": "stderr",
     "output_type": "stream",
     "text": [
      "C:\\Users\\arora\\AppData\\Local\\Temp\\ipykernel_19244\\1278530641.py:15: FutureWarning: Setting an item of incompatible dtype is deprecated and will raise in a future error of pandas. Value '(2, 1, 'X')' has dtype incompatible with int64, please explicitly cast to a compatible dtype first.\n",
      "  df.iloc[i, 0] = str(y_train.iloc[i, 0])\n"
     ]
    }
   ],
   "source": [
    "import pandas as pd\n",
    "\n",
    "x_train = pd.read_csv('x_train.csv')\n",
    "y_train = pd.read_csv('y_train.csv')\n",
    "\n",
    "print(x_train.shape)\n",
    "print('Old shape: ', y_train.shape)\n",
    "\n",
    "df = pd.DataFrame(0, index=range(y_train.shape[0]), columns=[1])\n",
    "bools = y_train.notna()\n",
    "vals = y_train.notna().sum(axis=1)\n",
    "\n",
    "for i in range(y_train.shape[0]):\n",
    "    if vals.iloc[0] == 1:\n",
    "        df.iloc[i, 0] = str(y_train.iloc[i, 0])\n",
    "    else:\n",
    "        moves = []\n",
    "        for j in range(y_train.shape[1]):\n",
    "            if bools.iloc[i, j]:\n",
    "                moves.append(str(y_train.iloc[i, j]))\n",
    "        df.iloc[i, 0] = ', '.join(moves)\n",
    "\n",
    "y_train = df\n",
    "print('New shape: ', y_train.shape)"
   ]
  },
  {
   "cell_type": "code",
   "execution_count": 8,
   "metadata": {},
   "outputs": [],
   "source": [
    "import os\n",
    "import json\n",
    "\n",
    "with open('sys_prompt_zero.txt') as f:\n",
    "    system_prompt = f.read()\n",
    "\n",
    "with open('gpt_zero.jsonl', mode='w', encoding='utf-8') as jsonl_file:\n",
    "\n",
    "    for i in range(x_train.shape[0]):\n",
    "        messages = []\n",
    "\n",
    "        # System prompt\n",
    "        message = {\n",
    "            \"role\": 'system',\n",
    "            \"content\": system_prompt\n",
    "        }\n",
    "        messages.append(message)\n",
    "\n",
    "        # User prompt\n",
    "        message = {\n",
    "            \"role\": 'user',\n",
    "            \"content\": x_train.iloc[i, 0]\n",
    "        }\n",
    "        messages.append(message)\n",
    "\n",
    "        # System response\n",
    "        message = {\n",
    "            \"role\": 'assistant',\n",
    "            \"content\": y_train.iloc[i, 0]\n",
    "        }\n",
    "        messages.append(message)\n",
    "\n",
    "        data = {\"messages\": messages}\n",
    "        jsonl_file.write(json.dumps(data) + \"\\n\")\n",
    "\n"
   ]
  },
  {
   "cell_type": "code",
   "execution_count": 9,
   "metadata": {},
   "outputs": [],
   "source": [
    "import openai\n",
    "model_name = 'gpt-3.5-turbo'\n",
    "data_path = 'gpt_zero.jsonl'\n",
    "\n",
    "log_file = openai.files.create(\n",
    "    file=open(data_path, \"rb\"),\n",
    "    purpose='fine-tune'\n",
    ")\n",
    "\n",
    "log_job = openai.fine_tuning.jobs.create(training_file=log_file.id, model=model_name)\n"
   ]
  },
  {
   "cell_type": "code",
   "execution_count": null,
   "metadata": {},
   "outputs": [],
   "source": [
    "\n"
   ]
  }
 ],
 "metadata": {
  "kernelspec": {
   "display_name": "patentai",
   "language": "python",
   "name": "python3"
  },
  "language_info": {
   "codemirror_mode": {
    "name": "ipython",
    "version": 3
   },
   "file_extension": ".py",
   "mimetype": "text/x-python",
   "name": "python",
   "nbconvert_exporter": "python",
   "pygments_lexer": "ipython3",
   "version": "3.11.4"
  }
 },
 "nbformat": 4,
 "nbformat_minor": 2
}
